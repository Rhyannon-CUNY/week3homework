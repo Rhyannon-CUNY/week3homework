{
 "cells": [
  {
   "cell_type": "code",
   "execution_count": 1,
   "id": "ce4569f2-0856-472c-bb71-e4f5a956a2d3",
   "metadata": {},
   "outputs": [],
   "source": [
    "chicago_murders, la_murders, nyc_murders, sj_murders = 762, 294, 334, 47"
   ]
  },
  {
   "cell_type": "code",
   "execution_count": 3,
   "id": "8b379a98-55ea-44c9-b08d-45a53b4d073b",
   "metadata": {},
   "outputs": [
    {
     "data": {
      "text/plain": [
       "762"
      ]
     },
     "execution_count": 3,
     "metadata": {},
     "output_type": "execute_result"
    }
   ],
   "source": [
    "chicago_murders"
   ]
  },
  {
   "cell_type": "code",
   "execution_count": 7,
   "id": "2f337a66-a899-4dc4-bd66-d7de12a886f3",
   "metadata": {},
   "outputs": [],
   "source": [
    "chicago_pop, la_pop, nyc_pop, sj_pop = 2_705_000, 3_976_000, 8_538_000, 1_025_000"
   ]
  },
  {
   "cell_type": "code",
   "execution_count": 9,
   "id": "23ef390e-b157-483b-a324-0c5641af1070",
   "metadata": {},
   "outputs": [
    {
     "data": {
      "text/plain": [
       "2705000"
      ]
     },
     "execution_count": 9,
     "metadata": {},
     "output_type": "execute_result"
    }
   ],
   "source": [
    "chicago_pop"
   ]
  },
  {
   "cell_type": "code",
   "execution_count": 61,
   "id": "8d3a7116-29b1-409e-a9ae-78d5acf21757",
   "metadata": {},
   "outputs": [],
   "source": [
    "chicago_rate = round(((chicago_murders/chicago_pop) * 100_000), 2)"
   ]
  },
  {
   "cell_type": "code",
   "execution_count": 63,
   "id": "99e4d819-c648-465f-9201-c02bb346dc84",
   "metadata": {},
   "outputs": [
    {
     "data": {
      "text/plain": [
       "28.17"
      ]
     },
     "execution_count": 63,
     "metadata": {},
     "output_type": "execute_result"
    }
   ],
   "source": [
    "chicago_rate"
   ]
  },
  {
   "cell_type": "code",
   "execution_count": 65,
   "id": "611e087f-0686-490f-9a1f-530350cd6858",
   "metadata": {},
   "outputs": [],
   "source": [
    "la_rate = round(((la_murders/la_pop) * 100_000), 2)\n",
    "nyc_rate = round(((nyc_murders/nyc_pop) * 100_000), 2)\n",
    "sj_rate = round(((sj_murders/sj_pop) * 100_000), 2)"
   ]
  },
  {
   "cell_type": "code",
   "execution_count": 67,
   "id": "a4b3b376-a1d6-4664-bc53-9fb68aa4b42e",
   "metadata": {},
   "outputs": [
    {
     "name": "stdout",
     "output_type": "stream",
     "text": [
      "7.39 3.91 4.59 28.17\n"
     ]
    }
   ],
   "source": [
    "print (la_rate , nyc_rate , sj_rate, chicago_rate)"
   ]
  },
  {
   "cell_type": "code",
   "execution_count": 87,
   "id": "f04d6ec3-a4be-425c-9c8f-0f5fcd9b48a5",
   "metadata": {},
   "outputs": [
    {
     "name": "stdout",
     "output_type": "stream",
     "text": [
      "3.91\n"
     ]
    }
   ],
   "source": [
    "lowest_rate = min (la_rate , nyc_rate , sj_rate , chicago_rate )\n",
    "print (lowest_rate)"
   ]
  },
  {
   "cell_type": "code",
   "execution_count": 103,
   "id": "63226d42-1bb0-4f75-bfc2-6cbfb8163327",
   "metadata": {},
   "outputs": [
    {
     "name": "stdout",
     "output_type": "stream",
     "text": [
      "28.17\n"
     ]
    }
   ],
   "source": [
    "highest_rate = max (la_rate , nyc_rate , sj_rate , chicago_rate )\n",
    "print(highest_rate)"
   ]
  },
  {
   "cell_type": "code",
   "execution_count": 119,
   "id": "66f695c6-1828-4a80-8463-427f67f1db6a",
   "metadata": {},
   "outputs": [
    {
     "name": "stdout",
     "output_type": "stream",
     "text": [
      "Chicago, 28.17\n"
     ]
    }
   ],
   "source": [
    "if highest_rate == la_rate: \n",
    "    print(\"LA,\", highest_rate)\n",
    "elif highest_rate == nyc_rate:\n",
    "    print(\"NYC,\", highest_rate)\n",
    "elif highest_rate == sj_rate:\n",
    "    print(\"SJ,\",highest_rate )\n",
    "elif highest_rate == chicago_rate: \n",
    "    print(\"Chicago,\", highest_rate)"
   ]
  },
  {
   "cell_type": "code",
   "execution_count": 117,
   "id": "cdef49dc-6bd5-4a60-ab74-2d1c95511b11",
   "metadata": {},
   "outputs": [
    {
     "name": "stdout",
     "output_type": "stream",
     "text": [
      "NYC, 3.91\n"
     ]
    }
   ],
   "source": [
    "if lowest_rate == la_rate: \n",
    "    print(\"LA,\", lowest_rate)\n",
    "elif lowest_rate == nyc_rate:\n",
    "    print(\"NYC,\", lowest_rate)\n",
    "elif lowest_rate == sj_rate:\n",
    "    print(\"SJ,\", lowest_rate)\n",
    "elif lowest_rate == chicago_rate: \n",
    "    print(\"Chicago,\", lowest_rate)"
   ]
  },
  {
   "cell_type": "code",
   "execution_count": 109,
   "id": "b6d63f78-e0c4-47fe-809b-5df1a74f55af",
   "metadata": {},
   "outputs": [
    {
     "name": "stdout",
     "output_type": "stream",
     "text": [
      "Chicago has the highest muder rate at 28.17 per 100K while New York City has the lowest rate at 3.91 per 100K\n"
     ]
    }
   ],
   "source": [
    "print (f\"Chicago has the highest muder rate at {chicago_rate} per 100K while New York City has the lowest rate at {nyc_rate} per 100K\")"
   ]
  }
 ],
 "metadata": {
  "kernelspec": {
   "display_name": "Python [conda env:base] *",
   "language": "python",
   "name": "conda-base-py"
  },
  "language_info": {
   "codemirror_mode": {
    "name": "ipython",
    "version": 3
   },
   "file_extension": ".py",
   "mimetype": "text/x-python",
   "name": "python",
   "nbconvert_exporter": "python",
   "pygments_lexer": "ipython3",
   "version": "3.12.7"
  }
 },
 "nbformat": 4,
 "nbformat_minor": 5
}
